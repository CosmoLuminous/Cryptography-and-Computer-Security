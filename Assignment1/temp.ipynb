{
 "cells": [
  {
   "cell_type": "code",
   "execution_count": 19,
   "metadata": {},
   "outputs": [
    {
     "name": "stdout",
     "output_type": "stream",
     "text": [
      "EG  HX  BY  DP  AI  IK  EH  XC  BX  BO  IC  PB  KC  DP  BS  OZ  TP  FS  QT  CU  OW  EG  CH  MQ  LO  GC  QC  PQ  AB  DC  UL  BE  PH  ZX  DP  TS  CE  XT  TP  EG  HX  OF  WG  CU  IA  PD  PH  LU  BM  UE  PH  UL  ZR  XG  HO  HD  PL  XG  QI  PE  DN  US  PU  EZ  CL  BW  IK  OE  PH  DH  EH  XU  MB  FS  AK  YG  EB  CX  HE  YB  DA  EL  MS  ZR  SD  GQ  AE  EI  BO  CE  CG  WN  CB  DQ  BY  WG  PH  UH  HU  DE  PH  YB  TM  UL  OB  HV  KM  BQ  IC  AL  DM  CU  ET  NL  BM  LM  AC  RT  IK  EP  US  UE  IK  OE  LA  XA  CP  LE  IU  PT  PU  XD  PM  UK  OC  UX  HS  QS  DX  TP  DB  UD  NO  UE  CU  ES  IF  QB  OS  TH  EL  MU  SE  WD  NO  UE  CU  EC  IL  OQ  AO  LZ  KS  FO  KB  OU  BD  RE  S\n",
      "{'E': 30, 'U': 26, 'B': 23, 'P': 23, 'C': 23, 'H': 20, 'D': 19, 'O': 18, 'L': 16, 'S': 15, 'X': 14, 'I': 13, 'G': 11, 'A': 11, 'T': 11, 'Q': 11, 'M': 11, 'K': 10, 'Z': 6, 'W': 6, 'Y': 5, 'F': 5, 'N': 5, 'R': 4, 'V': 1}\n",
      "{'UE': 8, 'CU': 7, 'DP': 6, 'PH': 6, 'EP': 5, 'HX': 4, 'IK': 4, 'BO': 4, 'TP': 4, 'BD': 4, 'MU': 4, 'EC': 4, 'EG': 3, 'GH': 3, 'CP': 3, 'GC': 3, 'LO': 3, 'QA': 3, 'UL': 3, 'LB': 3, 'HU': 3, 'DN': 3, 'US': 3, 'PU': 3, 'KO': 3, 'HE': 3, 'EL': 3, 'LM': 3, 'EI': 3, 'OU': 3, 'XB': 2, 'BY': 2, 'KE': 2, 'EH': 2, 'CB': 2, 'IC': 2, 'PB': 2, 'FS': 2, 'SQ': 2, 'XD': 2, 'PT': 2, 'CE': 2, 'XT': 2, 'PE': 2, 'WG': 2, 'PD': 2, 'UB': 2, 'BM': 2, 'LZ': 2, 'ZR': 2, 'XG': 2, 'HD': 2, 'PL': 2, 'GQ': 2, 'QI': 2, 'OE': 2, 'MB': 2, 'XH': 2, 'YB': 2, 'AE': 2, 'SD': 2, 'OC': 2, 'QB': 2, 'UD': 2, 'AC': 2, 'UX': 2, 'NO': 2, 'ES': 2, 'YD': 1, 'PA': 1, 'AI': 1, 'II': 1, 'XC': 1, 'BX': 1, 'OI': 1, 'BK': 1, 'KC': 1, 'CD': 1, 'BS': 1, 'SO': 1, 'OZ': 1, 'ZT': 1, 'PF': 1, 'QT': 1, 'TC': 1, 'UO': 1, 'OW': 1, 'WE': 1, 'CH': 1, 'HM': 1, 'MQ': 1, 'QL': 1, 'OG': 1, 'CQ': 1, 'QC': 1, 'PQ': 1, 'AB': 1, 'DC': 1, 'BE': 1, 'HZ': 1, 'ZX': 1, 'TS': 1, 'SC': 1, 'EX': 1, 'TT': 1, 'XO': 1, 'OF': 1, 'FW': 1, 'UI': 1, 'IA': 1, 'AP': 1, 'HL': 1, 'LU': 1, 'RX': 1, 'HO': 1, 'OH': 1, 'LX': 1, 'IP': 1, 'ED': 1, 'NU': 1, 'SP': 1, 'EZ': 1, 'ZC': 1, 'CL': 1, 'BW': 1, 'WI': 1, 'DH': 1, 'XU': 1, 'UM': 1, 'BF': 1, 'SA': 1, 'AK': 1, 'KY': 1, 'YG': 1, 'GE': 1, 'EB': 1, 'BC': 1, 'CX': 1, 'EY': 1, 'DA': 1, 'MS': 1, 'SZ': 1, 'RS': 1, 'DG': 1, 'EE': 1, 'IB': 1, 'CG': 1, 'GW': 1, 'WN': 1, 'NC': 1, 'DQ': 1, 'YW': 1, 'GP': 1, 'UH': 1, 'HH': 1, 'DE': 1, 'HY': 1, 'BT': 1, 'TM': 1, 'OB': 1, 'BH': 1, 'HV': 1, 'VK': 1, 'KM': 1, 'BQ': 1, 'CA': 1, 'AL': 1, 'LD': 1, 'DM': 1, 'MC': 1, 'ET': 1, 'TN': 1, 'NL': 1, 'ML': 1, 'MA': 1, 'CR': 1, 'RT': 1, 'TI': 1, 'SU': 1, 'LA': 1, 'AX': 1, 'XA': 1, 'LE': 1, 'IU': 1, 'UP': 1, 'PM': 1, 'UK': 1, 'HS': 1, 'QS': 1, 'DX': 1, 'DB': 1, 'BU': 1, 'SI': 1, 'IF': 1, 'FQ': 1, 'OS': 1, 'ST': 1, 'TH': 1, 'SE': 1, 'EW': 1, 'WD': 1, 'CI': 1, 'IL': 1, 'OQ': 1, 'AO': 1, 'OL': 1, 'ZK': 1, 'KS': 1, 'SF': 1, 'FO': 1, 'OK': 1, 'KB': 1, 'DR': 1, 'RE': 1}\n",
      "{'EPH': 4, 'CUE': 3, 'UEC': 3, 'EGH': 2, 'GHX': 2, 'IKE': 2, 'EHX': 2, 'XDP': 2, 'PHU': 2, 'IKO': 2, 'KOE': 2, 'ELM': 2, 'DNO': 2, 'NOU': 2, 'OUE': 2, 'ECU': 2, 'HXB': 1, 'XBY': 1, 'BYD': 1, 'YDP': 1, 'DPA': 1, 'PAI': 1, 'AII': 1, 'IIK': 1, 'KEH': 1, 'HXC': 1, 'XCB': 1, 'CBX': 1, 'BXB': 1, 'XBO': 1, 'BOI': 1, 'OIC': 1, 'ICP': 1, 'CPB': 1, 'PBK': 1, 'BKC': 1, 'KCD': 1, 'CDP': 1, 'DPB': 1, 'PBS': 1, 'BSO': 1, 'SOZ': 1, 'OZT': 1, 'ZTP': 1, 'TPF': 1, 'PFS': 1, 'FSQ': 1, 'SQT': 1, 'QTC': 1, 'TCU': 1, 'CUO': 1, 'UOW': 1, 'OWE': 1, 'WEG': 1, 'EGC': 1, 'GCH': 1, 'CHM': 1, 'HMQ': 1, 'MQL': 1, 'QLO': 1, 'LOG': 1, 'OGC': 1, 'GCQ': 1, 'CQC': 1, 'QCP': 1, 'CPQ': 1, 'PQA': 1, 'QAB': 1, 'ABD': 1, 'BDC': 1, 'DCU': 1, 'CUL': 1, 'ULB': 1, 'LBE': 1, 'BEP': 1, 'PHZ': 1, 'HZX': 1, 'ZXD': 1, 'DPT': 1, 'PTS': 1, 'TSC': 1, 'SCE': 1, 'CEX': 1, 'EXT': 1, 'XTT': 1, 'TTP': 1, 'TPE': 1, 'PEG': 1, 'HXO': 1, 'XOF': 1, 'OFW': 1, 'FWG': 1, 'WGC': 1, 'GCU': 1, 'CUI': 1, 'UIA': 1, 'IAP': 1, 'APD': 1, 'PDP': 1, 'DPH': 1, 'PHL': 1, 'HLU': 1, 'LUB': 1, 'UBM': 1, 'BMU': 1, 'MUE': 1, 'UEP': 1, 'HUL': 1, 'ULZ': 1, 'LZR': 1, 'ZRX': 1, 'RXG': 1, 'XGH': 1, 'GHO': 1, 'HOH': 1, 'OHD': 1, 'HDP': 1, 'DPL': 1, 'PLX': 1, 'LXG': 1, 'XGQ': 1, 'GQI': 1, 'QIP': 1, 'IPE': 1, 'PED': 1, 'EDN': 1, 'DNU': 1, 'NUS': 1, 'USP': 1, 'SPU': 1, 'PUE': 1, 'UEZ': 1, 'EZC': 1, 'ZCL': 1, 'CLB': 1, 'LBW': 1, 'BWI': 1, 'WIK': 1, 'OEP': 1, 'PHD': 1, 'HDH': 1, 'DHE': 1, 'HEH': 1, 'HXU': 1, 'XUM': 1, 'UMB': 1, 'MBF': 1, 'BFS': 1, 'FSA': 1, 'SAK': 1, 'AKY': 1, 'KYG': 1, 'YGE': 1, 'GEB': 1, 'EBC': 1, 'BCX': 1, 'CXH': 1, 'XHE': 1, 'HEY': 1, 'EYB': 1, 'YBD': 1, 'BDA': 1, 'DAE': 1, 'AEL': 1, 'LMS': 1, 'MSZ': 1, 'SZR': 1, 'ZRS': 1, 'RSD': 1, 'SDG': 1, 'DGQ': 1, 'GQA': 1, 'QAE': 1, 'AEE': 1, 'EEI': 1, 'EIB': 1, 'IBO': 1, 'BOC': 1, 'OCE': 1, 'CEC': 1, 'ECG': 1, 'CGW': 1, 'GWN': 1, 'WNC': 1, 'NCB': 1, 'CBD': 1, 'BDQ': 1, 'DQB': 1, 'QBY': 1, 'BYW': 1, 'YWG': 1, 'WGP': 1, 'GPH': 1, 'HUH': 1, 'UHH': 1, 'HHU': 1, 'HUD': 1, 'UDE': 1, 'DEP': 1, 'PHY': 1, 'HYB': 1, 'YBT': 1, 'BTM': 1, 'TMU': 1, 'MUL': 1, 'ULO': 1, 'LOB': 1, 'OBH': 1, 'BHV': 1, 'HVK': 1, 'VKM': 1, 'KMB': 1, 'MBQ': 1, 'BQI': 1, 'QIC': 1, 'ICA': 1, 'CAL': 1, 'ALD': 1, 'LDM': 1, 'DMC': 1, 'MCU': 1, 'UET': 1, 'ETN': 1, 'TNL': 1, 'NLB': 1, 'LBM': 1, 'BML': 1, 'MLM': 1, 'LMA': 1, 'MAC': 1, 'ACR': 1, 'CRT': 1, 'RTI': 1, 'TIK': 1, 'KEP': 1, 'EPU': 1, 'PUS': 1, 'USU': 1, 'SUE': 1, 'UEI': 1, 'EIK': 1, 'OEL': 1, 'ELA': 1, 'LAX': 1, 'AXA': 1, 'XAC': 1, 'ACP': 1, 'CPL': 1, 'PLE': 1, 'LEI': 1, 'EIU': 1, 'IUP': 1, 'UPT': 1, 'PTP': 1, 'TPU': 1, 'PUX': 1, 'UXD': 1, 'DPM': 1, 'PMU': 1, 'MUK': 1, 'UKO': 1, 'KOC': 1, 'OCU': 1, 'CUX': 1, 'UXH': 1, 'XHS': 1, 'HSQ': 1, 'SQS': 1, 'QSD': 1, 'SDX': 1, 'DXT': 1, 'XTP': 1, 'TPD': 1, 'PDB': 1, 'DBU': 1, 'BUD': 1, 'UDN': 1, 'UES': 1, 'ESI': 1, 'SIF': 1, 'IFQ': 1, 'FQB': 1, 'QBO': 1, 'BOS': 1, 'OST': 1, 'STH': 1, 'THE': 1, 'HEL': 1, 'LMU': 1, 'MUS': 1, 'USE': 1, 'SEW': 1, 'EWD': 1, 'WDN': 1, 'ECI': 1, 'CIL': 1, 'ILO': 1, 'LOQ': 1, 'OQA': 1, 'QAO': 1, 'AOL': 1, 'OLZ': 1, 'LZK': 1, 'ZKS': 1, 'KSF': 1, 'SFO': 1, 'FOK': 1, 'OKB': 1, 'KBO': 1, 'BOU': 1, 'OUB': 1, 'UBD': 1, 'BDR': 1, 'DRE': 1, 'RES': 1}\n",
      "{'EGHX': 2, 'IKOE': 2, 'DNOU': 2, 'NOUE': 2, 'OUEC': 2, 'UECU': 2, 'ECUE': 2, 'GHXB': 1, 'HXBY': 1, 'XBYD': 1, 'BYDP': 1, 'YDPA': 1, 'DPAI': 1, 'PAII': 1, 'AIIK': 1, 'IIKE': 1, 'IKEH': 1, 'KEHX': 1, 'EHXC': 1, 'HXCB': 1, 'XCBX': 1, 'CBXB': 1, 'BXBO': 1, 'XBOI': 1, 'BOIC': 1, 'OICP': 1, 'ICPB': 1, 'CPBK': 1, 'PBKC': 1, 'BKCD': 1, 'KCDP': 1, 'CDPB': 1, 'DPBS': 1, 'PBSO': 1, 'BSOZ': 1, 'SOZT': 1, 'OZTP': 1, 'ZTPF': 1, 'TPFS': 1, 'PFSQ': 1, 'FSQT': 1, 'SQTC': 1, 'QTCU': 1, 'TCUO': 1, 'CUOW': 1, 'UOWE': 1, 'OWEG': 1, 'WEGC': 1, 'EGCH': 1, 'GCHM': 1, 'CHMQ': 1, 'HMQL': 1, 'MQLO': 1, 'QLOG': 1, 'LOGC': 1, 'OGCQ': 1, 'GCQC': 1, 'CQCP': 1, 'QCPQ': 1, 'CPQA': 1, 'PQAB': 1, 'QABD': 1, 'ABDC': 1, 'BDCU': 1, 'DCUL': 1, 'CULB': 1, 'ULBE': 1, 'LBEP': 1, 'BEPH': 1, 'EPHZ': 1, 'PHZX': 1, 'HZXD': 1, 'ZXDP': 1, 'XDPT': 1, 'DPTS': 1, 'PTSC': 1, 'TSCE': 1, 'SCEX': 1, 'CEXT': 1, 'EXTT': 1, 'XTTP': 1, 'TTPE': 1, 'TPEG': 1, 'PEGH': 1, 'GHXO': 1, 'HXOF': 1, 'XOFW': 1, 'OFWG': 1, 'FWGC': 1, 'WGCU': 1, 'GCUI': 1, 'CUIA': 1, 'UIAP': 1, 'IAPD': 1, 'APDP': 1, 'PDPH': 1, 'DPHL': 1, 'PHLU': 1, 'HLUB': 1, 'LUBM': 1, 'UBMU': 1, 'BMUE': 1, 'MUEP': 1, 'UEPH': 1, 'EPHU': 1, 'PHUL': 1, 'HULZ': 1, 'ULZR': 1, 'LZRX': 1, 'ZRXG': 1, 'RXGH': 1, 'XGHO': 1, 'GHOH': 1, 'HOHD': 1, 'OHDP': 1, 'HDPL': 1, 'DPLX': 1, 'PLXG': 1, 'LXGQ': 1, 'XGQI': 1, 'GQIP': 1, 'QIPE': 1, 'IPED': 1, 'PEDN': 1, 'EDNU': 1, 'DNUS': 1, 'NUSP': 1, 'USPU': 1, 'SPUE': 1, 'PUEZ': 1, 'UEZC': 1, 'EZCL': 1, 'ZCLB': 1, 'CLBW': 1, 'LBWI': 1, 'BWIK': 1, 'WIKO': 1, 'KOEP': 1, 'OEPH': 1, 'EPHD': 1, 'PHDH': 1, 'HDHE': 1, 'DHEH': 1, 'HEHX': 1, 'EHXU': 1, 'HXUM': 1, 'XUMB': 1, 'UMBF': 1, 'MBFS': 1, 'BFSA': 1, 'FSAK': 1, 'SAKY': 1, 'AKYG': 1, 'KYGE': 1, 'YGEB': 1, 'GEBC': 1, 'EBCX': 1, 'BCXH': 1, 'CXHE': 1, 'XHEY': 1, 'HEYB': 1, 'EYBD': 1, 'YBDA': 1, 'BDAE': 1, 'DAEL': 1, 'AELM': 1, 'ELMS': 1, 'LMSZ': 1, 'MSZR': 1, 'SZRS': 1, 'ZRSD': 1, 'RSDG': 1, 'SDGQ': 1, 'DGQA': 1, 'GQAE': 1, 'QAEE': 1, 'AEEI': 1, 'EEIB': 1, 'EIBO': 1, 'IBOC': 1, 'BOCE': 1, 'OCEC': 1, 'CECG': 1, 'ECGW': 1, 'CGWN': 1, 'GWNC': 1, 'WNCB': 1, 'NCBD': 1, 'CBDQ': 1, 'BDQB': 1, 'DQBY': 1, 'QBYW': 1, 'BYWG': 1, 'YWGP': 1, 'WGPH': 1, 'GPHU': 1, 'PHUH': 1, 'HUHH': 1, 'UHHU': 1, 'HHUD': 1, 'HUDE': 1, 'UDEP': 1, 'DEPH': 1, 'EPHY': 1, 'PHYB': 1, 'HYBT': 1, 'YBTM': 1, 'BTMU': 1, 'TMUL': 1, 'MULO': 1, 'ULOB': 1, 'LOBH': 1, 'OBHV': 1, 'BHVK': 1, 'HVKM': 1, 'VKMB': 1, 'KMBQ': 1, 'MBQI': 1, 'BQIC': 1, 'QICA': 1, 'ICAL': 1, 'CALD': 1, 'ALDM': 1, 'LDMC': 1, 'DMCU': 1, 'MCUE': 1, 'CUET': 1, 'UETN': 1, 'ETNL': 1, 'TNLB': 1, 'NLBM': 1, 'LBML': 1, 'BMLM': 1, 'MLMA': 1, 'LMAC': 1, 'MACR': 1, 'ACRT': 1, 'CRTI': 1, 'RTIK': 1, 'TIKE': 1, 'IKEP': 1, 'KEPU': 1, 'EPUS': 1, 'PUSU': 1, 'USUE': 1, 'SUEI': 1, 'UEIK': 1, 'EIKO': 1, 'KOEL': 1, 'OELA': 1, 'ELAX': 1, 'LAXA': 1, 'AXAC': 1, 'XACP': 1, 'ACPL': 1, 'CPLE': 1, 'PLEI': 1, 'LEIU': 1, 'EIUP': 1, 'IUPT': 1, 'UPTP': 1, 'PTPU': 1, 'TPUX': 1, 'PUXD': 1, 'UXDP': 1, 'XDPM': 1, 'DPMU': 1, 'PMUK': 1, 'MUKO': 1, 'UKOC': 1, 'KOCU': 1, 'OCUX': 1, 'CUXH': 1, 'UXHS': 1, 'XHSQ': 1, 'HSQS': 1, 'SQSD': 1, 'QSDX': 1, 'SDXT': 1, 'DXTP': 1, 'XTPD': 1, 'TPDB': 1, 'PDBU': 1, 'DBUD': 1, 'BUDN': 1, 'UDNO': 1, 'CUES': 1, 'UESI': 1, 'ESIF': 1, 'SIFQ': 1, 'IFQB': 1, 'FQBO': 1, 'QBOS': 1, 'BOST': 1, 'OSTH': 1, 'STHE': 1, 'THEL': 1, 'HELM': 1, 'ELMU': 1, 'LMUS': 1, 'MUSE': 1, 'USEW': 1, 'SEWD': 1, 'EWDN': 1, 'WDNO': 1, 'CUEC': 1, 'UECI': 1, 'ECIL': 1, 'CILO': 1, 'ILOQ': 1, 'LOQA': 1, 'OQAO': 1, 'QAOL': 1, 'AOLZ': 1, 'OLZK': 1, 'LZKS': 1, 'ZKSF': 1, 'KSFO': 1, 'SFOK': 1, 'FOKB': 1, 'OKBO': 1, 'KBOU': 1, 'BOUB': 1, 'OUBD': 1, 'UBDR': 1, 'BDRE': 1, 'DRES': 1}\n"
     ]
    }
   ],
   "source": [
    "def calcNgramFreq(text, n):\n",
    "    ngramFreqDict = {}\n",
    "    for i in range(len(text)-n+1):\n",
    "        #if(i%n == 0):\n",
    "        if text[i:(i+n)] in ngramFreqDict:\n",
    "            ngramFreqDict[text[i:(i+n)]] += 1\n",
    "        else:\n",
    "            ngramFreqDict[text[i:(i+n)]] = 1    \n",
    "    ngramFreqDict = {k: v for k, v in sorted(ngramFreqDict.items(), key=lambda item: item[1], reverse=True)}\n",
    "    return ngramFreqDict\n",
    "\n",
    "def readEncryptedFile():\n",
    "    try:\n",
    "        fileName = \"new.txt\"\n",
    "        #fileName = \"encrypted_text.txt\"\n",
    "        cipherText = \"\"\n",
    "        with open(fileName,'r') as cipherFile:\n",
    "            cipherText = cipherFile.read().replace('\\n','')\n",
    "        return cipherText\n",
    "    except:\n",
    "        print(\"No such file found in directory. Please check\")\n",
    "        return\n",
    "text = readEncryptedFile()\n",
    "\n",
    "def breakIntoBigram():\n",
    "    toReturn = \"\"\n",
    "    for i in range(len(text)):\n",
    "        if i%2 == 0:\n",
    "            if i == 0:\n",
    "                toReturn += text[i]  \n",
    "            else:\n",
    "                toReturn += \"  \" + text[i]\n",
    "        else:\n",
    "            toReturn += text[i]\n",
    "    return toReturn\n",
    "            \n",
    "modifiedT = breakIntoBigram()\n",
    "print(modifiedT)\n",
    "\n",
    "freq1 = calcNgramFreq(text, 1)\n",
    "print(freq1)\n",
    "freq2 = calcNgramFreq(text, 2)\n",
    "print(freq2)\n",
    "freq3 = calcNgramFreq(text, 3)\n",
    "print(freq3)\n",
    "freq4 = calcNgramFreq(text, 4)\n",
    "print(freq4)"
   ]
  },
  {
   "cell_type": "code",
   "execution_count": null,
   "metadata": {},
   "outputs": [],
   "source": []
  }
 ],
 "metadata": {
  "kernelspec": {
   "display_name": "Python 3",
   "language": "python",
   "name": "python3"
  },
  "language_info": {
   "codemirror_mode": {
    "name": "ipython",
    "version": 3
   },
   "file_extension": ".py",
   "mimetype": "text/x-python",
   "name": "python",
   "nbconvert_exporter": "python",
   "pygments_lexer": "ipython3",
   "version": "3.7.4"
  }
 },
 "nbformat": 4,
 "nbformat_minor": 2
}
