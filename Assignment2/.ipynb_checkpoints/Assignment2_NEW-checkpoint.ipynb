{
 "cells": [
  {
   "cell_type": "code",
   "execution_count": 1,
   "metadata": {},
   "outputs": [],
   "source": [
    "#pip install C:\\Users\\Aman\\Downloads\\gmpy2-2.0.8-cp37-cp37m-win_amd64.whl\n",
    "import gmpy2 as mp\n",
    "import numpy as np\n",
    "import math\n",
    "\n",
    "vigKeyLen = 0\n",
    "vigKey = \"\"\n",
    "blockLen = 0\n",
    "charsToNum = {}\n",
    "numToChars = {}\n",
    "charSpace = 29\n",
    "ca_signature = \"this key has been signed by ca_signature\""
   ]
  },
  {
   "cell_type": "code",
   "execution_count": 244,
   "metadata": {},
   "outputs": [],
   "source": [
    "def readFile(fname):\n",
    "    '''Read File from the directory'''\n",
    "    try:\n",
    "        text = \"\"\n",
    "        with open(fname,'r') as openFile:\n",
    "            t = openFile.read().replace('\\n','')\n",
    "        openFile.close()\n",
    "        return t.lower()\n",
    "    except:\n",
    "        print(\"No such file found in directory. Please check\")\n",
    "        return\n",
    "\n",
    "def writeFile(fname, text):\n",
    "    '''write to File from the directory'''\n",
    "    try:\n",
    "        with open(fname,'w') as openFile:\n",
    "            openFile.write(text)\n",
    "        openFile.close()\n",
    "        return\n",
    "    except:\n",
    "        print(\"No such file found in directory. Please check\")\n",
    "        return\n",
    "\n",
    "def charsDictGen():  \n",
    "    '''#form dictionary of chars a-z and map them to 0-25 numbers'''\n",
    "    charsDict = {\"a\":None}\n",
    "    init = 'a'\n",
    "    for i in range(0,26):\n",
    "        charsDict[init] = i\n",
    "        init = chr(ord(init) + 1)\n",
    "    charsDict[' '] = 26\n",
    "    charsDict[','] = 27\n",
    "    charsDict['.'] = 28\n",
    "    return charsDict\n",
    "\n",
    "def numbersDictGen():  \n",
    "    '''#form dictionary of 0-25 numbers and map them to chars a-z '''\n",
    "    numsDict = {0:None}\n",
    "    init = 'a'\n",
    "    for i in range(0,26):\n",
    "        numsDict[i] = init\n",
    "        init = chr(ord(init) + 1)\n",
    "    numsDict[26] = ' '\n",
    "    numsDict[27] = ','\n",
    "    numsDict[28] = '.'\n",
    "    return numsDict\n",
    "\n",
    "def getMsgBlocks(text, l):\n",
    "    '''Returns list of message blocks of length l'''\n",
    "    msgBlocks = []\n",
    "    tempBlock = \"\"\n",
    "    \n",
    "    for char in text:\n",
    "        tempBlock += char\n",
    "        if(len(tempBlock) == l):\n",
    "            msgBlocks.append(tempBlock)\n",
    "            tempBlock = \"\"\n",
    "    msgBlocks.append(tempBlock) \n",
    "    return msgBlocks\n",
    "\n",
    "def enVigenere(text, key):\n",
    "    '''Encrypt the given message from vigenere cipher.'''\n",
    "    \n",
    "    msgBlocks = getMsgBlocks(text, len(key))\n",
    "    enMsg = \"\"\n",
    "    for block in msgBlocks:\n",
    "        for i in range(len(block)):\n",
    "            enMsg += numToChars[(charsToNum[block[i]] + charsToNum[key[i]])%charSpace]\n",
    "    \n",
    "    return enMsg\n",
    "\n",
    "def deVigenere(text, key):\n",
    "    \n",
    "    msgBlocks = getMsgBlocks(text, len(key))\n",
    "    deMsg = \"\"\n",
    "    for block in msgBlocks:\n",
    "        for i in range(len(block)):\n",
    "            deMsg += numToChars[(charsToNum[block[i]] - charsToNum[key[i]])%charSpace]\n",
    "    \n",
    "    return deMsg\n",
    "\n",
    "\n",
    "def genStrongPrime(bits):\n",
    "    '''Generates strong prime based on BPSW Strong probable prime test'''\n",
    "    notStrongPrime = True\n",
    "    prp = mp.next_prime(2**bits)\n",
    "    count = 0\n",
    "    while notStrongPrime:\n",
    "        if mp.is_strong_bpsw_prp(prp):\n",
    "            notStrongPrime = False\n",
    "        elif not mp.is_strong_bpsw_prp(prp):\n",
    "            prp = mp.next_prime(prp)\n",
    "    return prp\n",
    "\n",
    "\n",
    "def getPQ(b):\n",
    "    '''returns p and q for rsa for generating n = p*q of min length \"b\" bits'''\n",
    "    b = round(b/2) + int(np.random.choice([0,1,2,3,4,5,6,7,8,9], 1)[0])\n",
    "    p = genStrongPrime(b)\n",
    "    \n",
    "    b += int(np.random.choice([10,11,12,13,14,15,16,17,18,19], 1)[0])\n",
    "    q = genStrongPrime(b)\n",
    "    return p,q\n",
    "\n",
    "\n",
    "def rsaKeyGen(bits):\n",
    "    '''RSA Private and Public Key Generator'''\n",
    "    p, q = getPQ(bits)\n",
    "    n = mp.mul(p,q)\n",
    "    phi = mp.mul(p-1, q-1)\n",
    "    e = 2**16 + 1\n",
    "    notCoprime = True\n",
    "    while notCoprime:\n",
    "        if mp.gcd(e, phi) == 1:\n",
    "            notCoprime = False\n",
    "        else:\n",
    "            e += 2\n",
    "    \n",
    "    d = mp.invert(e, phi)\n",
    "    print(\"phi\\n\", phi)\n",
    "    print(mp.t_mod(mp.mul(e,d), phi) == 1)\n",
    "    return e, n, d\n",
    "\n",
    "def signDigitally(text):\n",
    "    '''Sign a Document Digitally by CA by his private key'''\n",
    "    pk = readFile(\"public_directory/public_\" + \"ca\" + \".txt\").split()\n",
    "    sk = readFile(\"secret_\" + \"ca\" + \".txt\").split()\n",
    "    \n",
    "    n = mp.mpz(pk[1])\n",
    "    d = mp.mpz(sk[0])\n",
    "    blockLenDsc = 40\n",
    "    print(\"Block Length\", blockLenDsc, type(blockLenDsc))\n",
    "                \n",
    "    msg = 0\n",
    "    for i in range(blockLenDsc):\n",
    "        msg += mp.mul(charsToNum[text[i]], mp.mpz(charSpace)**(blockLenDsc -1 -i))     \n",
    "\n",
    "    eMsg = mp.powmod(msg, d, n) #sign by CA Secret Key\n",
    "    \n",
    "    return eMsg\n",
    "\n",
    "def deCaSignature(text):\n",
    "    '''recover sign of CA by his public key'''\n",
    "    pk = readFile(\"public_directory/public_\" + \"ca\" + \".txt\").split()\n",
    "    \n",
    "    e = int(pk[0])\n",
    "    n = mp.mpz(pk[1])\n",
    "    blockLenDsc = 40\n",
    "    \n",
    "    dSign = mp.powmod(text, e, n) #Check signature Validity by CA Pbblic key\n",
    "\n",
    "    remainder = dSign\n",
    "    m = []\n",
    "    decryptedSign = \"\"\n",
    "    for i in range(blockLenDsc):\n",
    "        quot, remainder = mp.t_divmod(remainder, mp.mpz(charSpace)**(blockLenDsc -1 -i))\n",
    "        m.append(numToChars[mp.t_mod(quot, charSpace)])\n",
    "    decryptedSign += ''.join(m)\n",
    "        \n",
    "    return decryptedSign\n",
    "\n",
    "def publishCaSignedKeys():\n",
    "\n",
    "    e_ca, n_ca, d_ca = rsaKeyGen(512)\n",
    "    ca_signature = \"this key has been signed by ca signature\"\n",
    "    dsc = signDigitally(ca_signature)\n",
    "    print(dsc)\n",
    "    \n",
    "    writeFile(\"public_directory/public_ca.txt\", str(e_ca) + \" \" + str(n_ca) + \" \" + str(dsc))\n",
    "    writeFile(\"secret_ca.txt\",str(d_ca) + \" \" + str(n_ca) + \" \" + str(dsc))\n",
    "\n",
    "    e_a, n_a, d_a = rsaKeyGen(512)\n",
    "    writeFile(\"public_directory/public_a.txt\", str(e_a) + \" \" + str(n_a) + \" \" + str(dsc))\n",
    "    writeFile(\"secret_a.txt\",str(d_a) + \" \" + str(n_a) + \" \" + str(dsc))\n",
    "\n",
    "    e_b, n_b, d_b = rsaKeyGen(512)\n",
    "    writeFile(\"public_directory/public_b.txt\", str(e_b) + \" \" + str(n_b) + \" \" + str(dsc))\n",
    "    writeFile(\"secret_b.txt\",str(d_b) + \" \" + str(n_b) + \" \" + str(dsc))\n",
    "    \n",
    "    return\n",
    "\n",
    "def prepareMsgForRSA(msgEnVig):\n",
    "    return numToChars[vigKeyLen] + vigKey + msgEnVig\n",
    "\n",
    "\n",
    "\n",
    "def sendSecureMessage(msg, receiver, sender):\n",
    "    MsgEn_Vig = enVigenere(msg, vigKey)\n",
    "    \n",
    "    MsgForRSA = prepareMsgForRSA(MsgEn_Vig)\n",
    "    print(\"MSG FOR RSA\", MsgForRSA)\n",
    "    \n",
    "    MsgEn_SenderPvtKey = enRSA(MsgForRSA, sender, receiver, \"d\") #d stands for Decrypt Operation with secret key\n",
    "    print(\"MsgEn_SenderPvtKey\", MsgEn_SenderPvtKey)\n",
    "    \n",
    "    MsgEn_ReceiverPubKey = enRSA(MsgEn_SenderPvtKey, sender, receiver, \"e\") #e stands for Encrypt Operation with public key\n",
    "    print(\"MsgEn_ReceiverPubKey\", MsgEn_ReceiverPubKey)\n",
    "    \n",
    "    writeFile(\"sent_message.txt\", MsgEn_ReceiverPubKey)\n",
    "\n",
    "\n",
    "def calcBlockSize(n):\n",
    "    a = mp.mpz(n)\n",
    "    match = False\n",
    "    r = 0\n",
    "    while not match:\n",
    "        if mp.mpz(charSpace)**r > a:\n",
    "            match = True\n",
    "        r += 1\n",
    "    return r\n",
    "\n",
    "def enRSA(text, sender, receiver, operation):\n",
    "    '''RSA Encryption with public key of receiver'''\n",
    "    \n",
    "    operator = 0\n",
    "    \n",
    "    if(operation == \"d\"):\n",
    "        sk = readFile(\"secret_\" + sender + \".txt\").split()\n",
    "        d = mp.mpz(sk[0].strip())\n",
    "        n = mp.mpz(sk[1].strip())\n",
    "        N = n\n",
    "        operator = d\n",
    "    elif(operation == \"e\"):\n",
    "        pk = readFile(\"public_directory/public_\" + receiver + \".txt\").split()\n",
    "        e = int(pk[0].strip())\n",
    "        n = mp.mpz(pk[1].strip())\n",
    "        N = n\n",
    "        operator = e\n",
    "    else:\n",
    "        print(\"Please specify the operation as x = e / d\")\n",
    "        return\n",
    "        \n",
    "    blockLen = calcBlockSize(n)-1\n",
    "    print(\"Block Length\", blockLen, type(blockLen))\n",
    "    msgBlocks = getMsgBlocks(text, blockLen)\n",
    "    if(len(msgBlocks[-1]) != blockLen):\n",
    "        for i in range(blockLen - len(msgBlocks[-1])):\n",
    "            msgBlocks[-1] += numToChars[np.random.randint(0, 26)]\n",
    "            \n",
    "    encryptedMsg = []\n",
    "    for block in msgBlocks:\n",
    "        msg = 0\n",
    "        for i in range(blockLen):\n",
    "            msg += mp.mul(charsToNum[block[i]], mp.mpz(charSpace)**(blockLen -1 -i))   \n",
    "        print(\"\\n Orig Msg Bits\", mp.bit_length(msg))\n",
    "        print(\"\\n Orig Msg\\n\", msg)\n",
    "        print(\"\\nOperator e\\n\", e)\n",
    "        eMsg = mp.powmod(msg, operator, N)\n",
    "        encryptedMsg.append(eMsg)\n",
    "    \n",
    "    print(\"\\nencryptedMsgBlock\", encryptedMsg)\n",
    "    eMsg_Eng = \"\"\n",
    "      \n",
    "    enMsg = \"\"\n",
    "    for msg in encryptedMsg:\n",
    "        #qdash, remainder = mp.t_divmod(msg, mp.mpz(charSpace)**(blockLen))\n",
    "        #print(\"\\nQDash\", qdash)\n",
    "        remainder = msg\n",
    "        m = []\n",
    "        for i in range(blockLen):\n",
    "            quot, remainder = mp.t_divmod(remainder, mp.mpz(charSpace)**(blockLen -1 -i))\n",
    "            m.append(numToChars[quot])\n",
    "        enMsg += ''.join(m)\n",
    "        print(\"EMsg\\n\", ''.join(m))\n",
    "    \n",
    "    return enMsg\n",
    "        \n",
    "def deRSA(text, sender, receiver, operation):\n",
    "    '''RSA Decryption with public key of receiver'''    \n",
    "    \n",
    "    operator = 0\n",
    "    \n",
    "    if(operation == \"d\"):\n",
    "        sk = readFile(\"secret_\" + receiver + \".txt\").split()\n",
    "        d = mp.mpz(sk[0].strip())\n",
    "        n = mp.mpz(sk[1].strip())\n",
    "        operator = d\n",
    "        N = n\n",
    "    elif(operation == \"e\"):\n",
    "        pk = readFile(\"public_directory/public_\" + sender + \".txt\").split()\n",
    "        e = int(pk[0].strip())\n",
    "        n = mp.mpz(pk[1].strip())\n",
    "        operator = e\n",
    "        N = n\n",
    "    else:\n",
    "        print(\"Please specify the operation as x = e / d\")\n",
    "        return\n",
    "    blockLen = calcBlockSize(n)-1\n",
    "    msgBlocks = getMsgBlocks(text, blockLen)\n",
    "    print(\"\\nMSG BLOCKS DE RECEIVED\\n\", msgBlocks[0])\n",
    "    \n",
    "    decryptedMsg = []\n",
    "    for block in msgBlocks:\n",
    "        msg = 0\n",
    "        if len(block) != 0:\n",
    "            for i in range(blockLen):\n",
    "                msg += mp.mul(charsToNum[block[i]], mp.mpz(charSpace)**(blockLen -1 -i))\n",
    "            \n",
    "            #msg += mp.mpz(charSpace)**(blockLen-1)\n",
    "        \n",
    "            decryptedMsg.append(msg)\n",
    "    deMsgBlocks = []  \n",
    "    tempDeMsg = \"\"\n",
    "    \n",
    "    \n",
    "    for block in decryptedMsg:\n",
    "        print(\"\\nBroken Blocks:\\n\" ,block)\n",
    "        print(\"\\nOperator d\\n\", operator)\n",
    "        print(\"\\n N: \\n\", N )\n",
    "        remain = mp.powmod(mp.mpz(block), operator, N)\n",
    "        deMsgBlocks.append(remain)\n",
    "        print(\"After Decryptoin\\n\", remain)\n",
    "      \n",
    "    decryptedMsg = \"\"\n",
    "    for msg in deMsgBlocks:\n",
    "        remainder = msg\n",
    "        m = []\n",
    "        for i in range(blockLen):\n",
    "            quot, remainder = mp.t_divmod(remainder, mp.mpz(charSpace)**(blockLen -1 -i))\n",
    "            m.append(numToChars[mp.t_mod(quot, charSpace)])\n",
    "        decryptedMsg += ''.join(m)\n",
    "        \n",
    "    return decryptedMsg\n"
   ]
  },
  {
   "cell_type": "code",
   "execution_count": 246,
   "metadata": {
    "scrolled": false
   },
   "outputs": [
    {
     "name": "stdout",
     "output_type": "stream",
     "text": [
      "Block Length 108 <class 'int'>\n",
      "\n",
      " Orig Msg Bits 523\n",
      "\n",
      " Orig Msg\n",
      " 21036884672144698696047799618935338998582895759006049871611107353021423405372582622872060253663961704082014042438404717286838498185106742044278612071897213994\n",
      "\n",
      "Operator e\n",
      " 65537\n",
      "\n",
      "encryptedMsgBlock [mpz(1203864271081472814335464248274679856392649259960211501060157906669149965574120341972977941559298975923202633103156956237005482742678086161794123072474002227)]\n",
      "EMsg\n",
      " als crsruuzfkvscmksaeu,sjplfahjlz,ocwj rhabnbullws sxmkufo. etbmnn xuv wp.e pbfbwilpiiyc,ntluulaayg ovrttnrp\n",
      "\n",
      "MSG BLOCKS DE RECEIVED\n",
      " als crsruuzfkvscmksaeu,sjplfahjlz,ocwj rhabnbullws sxmkufo. etbmnn xuv wp.e pbfbwilpiiyc,ntluulaayg ovrttnrp\n",
      "\n",
      "Broken Blocks:\n",
      " 1203864271081472814335464248274679856392649259960211501060157906669149965574120341972977941559298975923202633103156956237005482742678086161794123072474002227\n",
      "\n",
      "Operator d\n",
      " 10396129938324351346749983281334639620580610243667288125522994618675941238597430650594670147736914489567688447662915775779889071738810504533775817739607277473\n",
      "\n",
      " N: \n",
      " 13729595320261219429963801598162786434538870600286610818788926918371086366830543121108554344258680241424321014314305494878596439654642691592979713319606721101\n",
      "After Decryptoin\n",
      " 7307289351883479266083998020772552564044025158719439052822180434650337038542039501763505909405281462657693028124099222408242058530464050451298898752290492893\n",
      "msg_rsa_decrypted:\n",
      " cmvadmshjzig qzrpze ym odpturazjapkuyfcqf ,yotflxtodqhi,o.crcfyvqgpqfclxypnztbnlnxduigodjrnpcv.t.nuvnbp.cbpb\n"
     ]
    }
   ],
   "source": [
    "#publishCaSignedKeys()\n",
    "msg = readFile(\"message.txt\")\n",
    "msg_rsa_de = enRSA(msg, \"a\", \"b\", \"e\")\n",
    "#print(\"msg_rsa_encrypted\", msg_rsa_encrypted)\n",
    "\n",
    "msg_rsa_de = deRSA(msg_rsa_de, \"a\", \"b\", \"d\")\n",
    "print(\"msg_rsa_decrypted:\\n\", msg_rsa_de)"
   ]
  },
  {
   "cell_type": "code",
   "execution_count": 215,
   "metadata": {},
   "outputs": [],
   "source": [
    "a = 28471"
   ]
  },
  {
   "cell_type": "code",
   "execution_count": 199,
   "metadata": {},
   "outputs": [
    {
     "name": "stdout",
     "output_type": "stream",
     "text": [
      "Bits size msg 277\n",
      "Bits size e 17\n",
      "Bits size d 273\n",
      "Bits size n 277\n",
      "demsg\n",
      " 1\n"
     ]
    }
   ],
   "source": [
    "msg = mp.mpz(135413922060639231978798669016428840332583244210772138588236533813686468279486578005159894648663919376016349538362441920670349085867172402517979)\n",
    "#print(\"msg:\\n\", msg)\n",
    "e = 65537 \n",
    "phi = 121416805764108066932466369176469931665440380684482584059201563258175697791234343016 \n",
    "n = mp.mpz(121416805764108066932466369176469931665451541946117590840803161945299459788570099847)\n",
    "\n",
    "d = mp.mpz(11364125403314751706116372560972680483327147948771170035539350123222755546507033585 )\n",
    "\n",
    "msg = mp.mpz(121416805764108066932466369176469931665451541946117590840803161945299459788570099848)\n",
    "print(\"Bits size msg\", mp.bit_length(msg))\n",
    "print(\"Bits size e\", mp.bit_length(e))\n",
    "print(\"Bits size d\", mp.bit_length(d))\n",
    "print(\"Bits size n\", mp.bit_length(n))\n",
    "b = mp.powmod(msg, e, n)\n",
    "#print(\"b\\n\", b)\n",
    "\n",
    "print(\"demsg\\n\", mp.powmod(b, d, n))\n",
    "\n",
    "\n",
    "\n",
    "#block = mp.mpz(190459789025112130935632505941732185815976614667592029637716294576394326453151808007601876414765668581575926172639875314151127670734408185306216379794486665938)\n",
    "#c = mp.powmod(block, d, n)\n",
    "#print(c)"
   ]
  },
  {
   "cell_type": "code",
   "execution_count": 102,
   "metadata": {
    "scrolled": false
   },
   "outputs": [
    {
     "name": "stdout",
     "output_type": "stream",
     "text": [
      "Block Length 40 <class 'int'>\n",
      "6324439457851661129760239086434485213756694227388653109809333890973326153185558342672860969288840992229301737959252999031471897369664493862183081957048241190132855\n",
      "SEND MESSAGE TO: (a or b)g\n",
      "FROM: (a or b)nh\n",
      "MSG FOR RSA xwhatthefuckiamdoinghereysa,hlbp.nv  cksfbg bsymeidq ljrr,wcqvdgkxh.oeyjiwxuxfcnffkzrqscdvzvvtvnxqvjckjoqrjoou.yfbsykuidzeecnqylezaeio\n",
      "No such file found in directory. Please check\n"
     ]
    },
    {
     "ename": "AttributeError",
     "evalue": "'NoneType' object has no attribute 'split'",
     "output_type": "error",
     "traceback": [
      "\u001b[1;31m---------------------------------------------------------------------------\u001b[0m",
      "\u001b[1;31mAttributeError\u001b[0m                            Traceback (most recent call last)",
      "\u001b[1;32m<ipython-input-102-4a03d1b3b7a2>\u001b[0m in \u001b[0;36m<module>\u001b[1;34m\u001b[0m\n\u001b[0;32m     14\u001b[0m \u001b[1;33m\u001b[0m\u001b[0m\n\u001b[0;32m     15\u001b[0m \u001b[1;34m'''Send Secure Message'''\u001b[0m\u001b[1;33m\u001b[0m\u001b[1;33m\u001b[0m\u001b[0m\n\u001b[1;32m---> 16\u001b[1;33m \u001b[0msendSecureMessage\u001b[0m\u001b[1;33m(\u001b[0m\u001b[0mMessage\u001b[0m\u001b[1;33m,\u001b[0m \u001b[0mSendTo\u001b[0m\u001b[1;33m,\u001b[0m \u001b[0mFrom\u001b[0m\u001b[1;33m)\u001b[0m \u001b[1;31m#Send Message With High Security\u001b[0m\u001b[1;33m\u001b[0m\u001b[1;33m\u001b[0m\u001b[0m\n\u001b[0m",
      "\u001b[1;32m<ipython-input-101-579d803dbf54>\u001b[0m in \u001b[0;36msendSecureMessage\u001b[1;34m(msg, receiver, sender)\u001b[0m\n\u001b[0;32m    307\u001b[0m     \u001b[0mprint\u001b[0m\u001b[1;33m(\u001b[0m\u001b[1;34m\"MSG FOR RSA\"\u001b[0m\u001b[1;33m,\u001b[0m \u001b[0mMsgForRSA\u001b[0m\u001b[1;33m)\u001b[0m\u001b[1;33m\u001b[0m\u001b[1;33m\u001b[0m\u001b[0m\n\u001b[0;32m    308\u001b[0m \u001b[1;33m\u001b[0m\u001b[0m\n\u001b[1;32m--> 309\u001b[1;33m     \u001b[0mMsgEn_SenderPvtKey\u001b[0m \u001b[1;33m=\u001b[0m \u001b[0menRSA\u001b[0m\u001b[1;33m(\u001b[0m\u001b[0mMsgForRSA\u001b[0m\u001b[1;33m,\u001b[0m \u001b[0msender\u001b[0m\u001b[1;33m,\u001b[0m \u001b[0mreceiver\u001b[0m\u001b[1;33m,\u001b[0m \u001b[1;34m\"d\"\u001b[0m\u001b[1;33m)\u001b[0m \u001b[1;31m#d stands for Decrypt Operation with secret key\u001b[0m\u001b[1;33m\u001b[0m\u001b[1;33m\u001b[0m\u001b[0m\n\u001b[0m\u001b[0;32m    310\u001b[0m     \u001b[0mprint\u001b[0m\u001b[1;33m(\u001b[0m\u001b[1;34m\"MsgEn_SenderPvtKey\"\u001b[0m\u001b[1;33m,\u001b[0m \u001b[0mMsgEn_SenderPvtKey\u001b[0m\u001b[1;33m)\u001b[0m\u001b[1;33m\u001b[0m\u001b[1;33m\u001b[0m\u001b[0m\n\u001b[0;32m    311\u001b[0m \u001b[1;33m\u001b[0m\u001b[0m\n",
      "\u001b[1;32m<ipython-input-101-579d803dbf54>\u001b[0m in \u001b[0;36menRSA\u001b[1;34m(text, sender, receiver, operation)\u001b[0m\n\u001b[0;32m    138\u001b[0m \u001b[1;33m\u001b[0m\u001b[0m\n\u001b[0;32m    139\u001b[0m     \u001b[1;32mif\u001b[0m\u001b[1;33m(\u001b[0m\u001b[0moperation\u001b[0m \u001b[1;33m==\u001b[0m \u001b[1;34m\"d\"\u001b[0m\u001b[1;33m)\u001b[0m\u001b[1;33m:\u001b[0m\u001b[1;33m\u001b[0m\u001b[1;33m\u001b[0m\u001b[0m\n\u001b[1;32m--> 140\u001b[1;33m         \u001b[0msk\u001b[0m \u001b[1;33m=\u001b[0m \u001b[0mreadFile\u001b[0m\u001b[1;33m(\u001b[0m\u001b[1;34m\"secret_\"\u001b[0m \u001b[1;33m+\u001b[0m \u001b[0msender\u001b[0m \u001b[1;33m+\u001b[0m \u001b[1;34m\".txt\"\u001b[0m\u001b[1;33m)\u001b[0m\u001b[1;33m.\u001b[0m\u001b[0msplit\u001b[0m\u001b[1;33m(\u001b[0m\u001b[1;33m)\u001b[0m\u001b[1;33m\u001b[0m\u001b[1;33m\u001b[0m\u001b[0m\n\u001b[0m\u001b[0;32m    141\u001b[0m         \u001b[0md\u001b[0m \u001b[1;33m=\u001b[0m \u001b[0mmp\u001b[0m\u001b[1;33m.\u001b[0m\u001b[0mmpz\u001b[0m\u001b[1;33m(\u001b[0m\u001b[0msk\u001b[0m\u001b[1;33m[\u001b[0m\u001b[1;36m0\u001b[0m\u001b[1;33m]\u001b[0m\u001b[1;33m)\u001b[0m\u001b[1;33m\u001b[0m\u001b[1;33m\u001b[0m\u001b[0m\n\u001b[0;32m    142\u001b[0m         \u001b[0mn\u001b[0m \u001b[1;33m=\u001b[0m \u001b[0mmp\u001b[0m\u001b[1;33m.\u001b[0m\u001b[0mmpz\u001b[0m\u001b[1;33m(\u001b[0m\u001b[0msk\u001b[0m\u001b[1;33m[\u001b[0m\u001b[1;36m1\u001b[0m\u001b[1;33m]\u001b[0m\u001b[1;33m)\u001b[0m\u001b[1;33m\u001b[0m\u001b[1;33m\u001b[0m\u001b[0m\n",
      "\u001b[1;31mAttributeError\u001b[0m: 'NoneType' object has no attribute 'split'"
     ]
    }
   ],
   "source": [
    "'''Initialize Variables'''\n",
    "charsToNum = charsDictGen() #Generate Characters to Number Dictionary\n",
    "numToChars = numbersDictGen() #Generate Numbers to Characters Dictionary\n",
    "vigKey = readFile(\"vigenere_key.txt\") #read vigenere cipher key \n",
    "vigKeyLen = len(vigKey)\n",
    "\n",
    "'''Publish CA Signed Public Keys in Public Directory and Send Secret Keys to respective users'''\n",
    "publishCaSignedKeys() #Publish Private and Public Keys signed by CA\n",
    "\n",
    "'''Take input from User'''\n",
    "Message = readFile(\"message.txt\") #Read Msg from message text file\n",
    "SendTo = str(input(\"SEND MESSAGE TO: (a or b)\")) #Input Receiver's Name\n",
    "From = str(input(\"FROM: (a or b)\")) #Input Sender's Name\n",
    "\n",
    "'''Send Secure Message'''\n",
    "sendSecureMessage(Message, SendTo, From) #Send Message With High Security\n"
   ]
  },
  {
   "cell_type": "code",
   "execution_count": 178,
   "metadata": {},
   "outputs": [
    {
     "name": "stdout",
     "output_type": "stream",
     "text": [
      "Block Length 40 <class 'int'>\n",
      "75742330106527715893802228003471513480665784825658476368699466049672815757156429760\n",
      "this key has been signed by ca signature\n"
     ]
    }
   ],
   "source": [
    "\n",
    "dsc = signDigitally(\"this key has been signed by ca signature\")\n",
    "print(dsc)\n",
    "\n",
    "caSig = deCaSignature(dsc)\n",
    "print(caSig)"
   ]
  },
  {
   "cell_type": "code",
   "execution_count": 14,
   "metadata": {
    "scrolled": false
   },
   "outputs": [
    {
     "name": "stdout",
     "output_type": "stream",
     "text": [
      "Block Length 35 <class 'int'>\n",
      "encryptedMsgBlock [mpz(150628460692382029960935376048261068618647462280468650218816260891686833263503782736930930107073582388979540293979448050658689196272015453677364391716687548629079), mpz(98036692962781250897284094813185541094438015140111789863912550686393249104278150098311647616811189291926447052579647948214211233747994147951569766603785096450793), mpz(62068315462920894975706624900684980009759171172640394454719866333155641367459155729881763752167439260424591266278530055117923386035765804918263338549531479277192), mpz(172099684651367667334752321380681698759548215161012341796640652369501270573813983439695525507856878198731463633800336167415270251852048394937819353936285636879408), mpz(187271446737905020275682433936346122562139490416388067795409464494595123986890782878673627481991083993210595994322072153424405951154203508408378940579694072151833), mpz(27139352335370367209358061981196843252162101837579545414815334835795943116842441708172126948046880101528136282280714359870093766240120519909059363328221066543684), mpz(177782751958060132007988557926629267732187691818777829520484004225753244866423876658010312991753476859838869589558758939207725030426552793865562613439696453258399), mpz(217433723177862812475658423807890551387790202404664580298312910715223924536297385089684764863422833800962169163107023300507876840954628018760775798005772234232456), mpz(48199419121522826325264511255994364160626807140740241583362209021958027013243344741342054177850271478385208653151404413057240016918687526927735640774693404500327), mpz(15651119855508958188099767343112089159819013460549591716721559530968669982214291362764346274957214423411836171845525703930344766860160181567614237385902622703885), mpz(15154066058486265675139206147094060721857040343040215367783947036103639894320947475778457511534858812367197205499255042358187469720656435159728810898575076031425), mpz(35665641318089058625023011031670468495313310573139532671437532013772053458818316698568635022711293802284470693504404662301369481900014276333643768413126102041655), mpz(26307596864560953716270959874749741176590967033846645644384802059184332232202716494045137524994091100163650813996465507095513916725853972855650274170782860772245), mpz(202020867004937496075432452362518595432741620152305917301639306459678341313405118202053575462232704620568816139500440224344781261404956028255037005090854053543978), mpz(80117193916757011972245936916207834214826268627035206135995724343599874498517549072544198805845794130997973696313058596876666954747590269852121309236834670372627), mpz(17524009178995745995701150610337317197963392205015668547310953824608715562851195729212884184555312572136083436482114195732552782659889029021575174735220925748815)]\n",
      "q =  6\n"
     ]
    },
    {
     "ename": "KeyError",
     "evalue": "mpz(2569326874044173103127153168723737263603943455362)",
     "output_type": "error",
     "traceback": [
      "\u001b[1;31m---------------------------------------------------------------------------\u001b[0m",
      "\u001b[1;31mKeyError\u001b[0m                                  Traceback (most recent call last)",
      "\u001b[1;32m<ipython-input-14-50eff96a64a1>\u001b[0m in \u001b[0;36m<module>\u001b[1;34m\u001b[0m\n\u001b[0;32m      1\u001b[0m \u001b[0mmsg\u001b[0m \u001b[1;33m=\u001b[0m \u001b[0mreadFile\u001b[0m\u001b[1;33m(\u001b[0m\u001b[1;34m\"message.txt\"\u001b[0m\u001b[1;33m)\u001b[0m\u001b[1;33m\u001b[0m\u001b[1;33m\u001b[0m\u001b[0m\n\u001b[1;32m----> 2\u001b[1;33m \u001b[0mmsg_rsa_de\u001b[0m \u001b[1;33m=\u001b[0m \u001b[0menRSA\u001b[0m\u001b[1;33m(\u001b[0m\u001b[0mmsg\u001b[0m\u001b[1;33m,\u001b[0m \u001b[1;34m\"a\"\u001b[0m\u001b[1;33m,\u001b[0m \u001b[1;34m\"a\"\u001b[0m\u001b[1;33m,\u001b[0m \u001b[1;34m\"d\"\u001b[0m\u001b[1;33m)\u001b[0m\u001b[1;33m\u001b[0m\u001b[1;33m\u001b[0m\u001b[0m\n\u001b[0m\u001b[0;32m      3\u001b[0m \u001b[1;31m#print(\"msg_rsa_encrypted\", msg_rsa_encrypted)\u001b[0m\u001b[1;33m\u001b[0m\u001b[1;33m\u001b[0m\u001b[1;33m\u001b[0m\u001b[0m\n\u001b[0;32m      4\u001b[0m \u001b[1;33m\u001b[0m\u001b[0m\n\u001b[0;32m      5\u001b[0m \u001b[0mmsg_rsa_de\u001b[0m \u001b[1;33m=\u001b[0m \u001b[0mdeRSA\u001b[0m\u001b[1;33m(\u001b[0m\u001b[0mmsg_rsa_de\u001b[0m\u001b[1;33m,\u001b[0m \u001b[1;34m\"a\"\u001b[0m\u001b[1;33m,\u001b[0m \u001b[1;34m\"a\"\u001b[0m\u001b[1;33m,\u001b[0m \u001b[1;34m\"e\"\u001b[0m\u001b[1;33m)\u001b[0m\u001b[1;33m\u001b[0m\u001b[1;33m\u001b[0m\u001b[0m\n",
      "\u001b[1;32m<ipython-input-13-eebbb445ac23>\u001b[0m in \u001b[0;36menRSA\u001b[1;34m(text, sender, receiver, operation)\u001b[0m\n\u001b[0;32m    169\u001b[0m             \u001b[1;31m#q, r = mp.t_divmod(quot, charSpace)\u001b[0m\u001b[1;33m\u001b[0m\u001b[1;33m\u001b[0m\u001b[1;33m\u001b[0m\u001b[0m\n\u001b[0;32m    170\u001b[0m             \u001b[0mprint\u001b[0m\u001b[1;33m(\u001b[0m\u001b[1;34m\"q = \"\u001b[0m\u001b[1;33m,\u001b[0m \u001b[0mquot\u001b[0m\u001b[1;33m)\u001b[0m\u001b[1;33m\u001b[0m\u001b[1;33m\u001b[0m\u001b[0m\n\u001b[1;32m--> 171\u001b[1;33m             \u001b[0mm\u001b[0m\u001b[1;33m.\u001b[0m\u001b[0mappend\u001b[0m\u001b[1;33m(\u001b[0m\u001b[0mnumToChars\u001b[0m\u001b[1;33m[\u001b[0m\u001b[0mremainder\u001b[0m\u001b[1;33m]\u001b[0m\u001b[1;33m)\u001b[0m\u001b[1;33m\u001b[0m\u001b[1;33m\u001b[0m\u001b[0m\n\u001b[0m\u001b[0;32m    172\u001b[0m         \u001b[0menMsg\u001b[0m \u001b[1;33m+=\u001b[0m \u001b[1;34m''\u001b[0m\u001b[1;33m.\u001b[0m\u001b[0mjoin\u001b[0m\u001b[1;33m(\u001b[0m\u001b[0mm\u001b[0m\u001b[1;33m)\u001b[0m \u001b[1;33m+\u001b[0m \u001b[1;34m\"+\"\u001b[0m\u001b[1;33m\u001b[0m\u001b[1;33m\u001b[0m\u001b[0m\n\u001b[0;32m    173\u001b[0m         \u001b[0mprint\u001b[0m\u001b[1;33m(\u001b[0m\u001b[1;34m''\u001b[0m\u001b[1;33m.\u001b[0m\u001b[0mjoin\u001b[0m\u001b[1;33m(\u001b[0m\u001b[0mm\u001b[0m\u001b[1;33m)\u001b[0m\u001b[1;33m)\u001b[0m\u001b[1;33m\u001b[0m\u001b[1;33m\u001b[0m\u001b[0m\n",
      "\u001b[1;31mKeyError\u001b[0m: mpz(2569326874044173103127153168723737263603943455362)"
     ]
    }
   ],
   "source": [
    "\n",
    "msg = readFile(\"message.txt\")\n",
    "msg_rsa_de = enRSA(msg, \"a\", \"a\", \"d\")\n",
    "#print(\"msg_rsa_encrypted\", msg_rsa_encrypted)\n",
    "\n",
    "msg_rsa_de = deRSA(msg_rsa_de, \"a\", \"a\", \"e\")\n",
    "print(\"msg_rsa_decrypted:\\n\", msg_rsa_de)"
   ]
  },
  {
   "cell_type": "code",
   "execution_count": 293,
   "metadata": {},
   "outputs": [
    {
     "name": "stdout",
     "output_type": "stream",
     "text": [
      "223136545594579814878750349981895839857554000360047\n"
     ]
    }
   ],
   "source": [
    "x = mp.mpz(216567016859265086196421767469427105974602390337583470969872845751045696229323397017266821541323651326589641320747251056020147115829366508099343748448163302075747)\n",
    "y = mp.mpz(845877578333521112962751409095693043306229346037993)\n",
    "z = mp.mpz(29)**35\n",
    "print(mp.t_mod(x, y))"
   ]
  },
  {
   "cell_type": "code",
   "execution_count": 33,
   "metadata": {
    "scrolled": false
   },
   "outputs": [
    {
     "name": "stdout",
     "output_type": "stream",
     "text": [
      "27989\n",
      "7108\n"
     ]
    }
   ],
   "source": [
    "print(mp.t_mod(mp.mpz(7108)**3, 28471))\n",
    "print(mp.t_mod(mp.mpz(27989)**1867, 28471))"
   ]
  },
  {
   "cell_type": "code",
   "execution_count": 27,
   "metadata": {},
   "outputs": [
    {
     "name": "stdout",
     "output_type": "stream",
     "text": [
      "1867\n"
     ]
    }
   ],
   "source": [
    "print(mp.invert(mp.mpz(3), mp.mpz(2800)))"
   ]
  },
  {
   "cell_type": "code",
   "execution_count": 32,
   "metadata": {},
   "outputs": [
    {
     "name": "stdout",
     "output_type": "stream",
     "text": [
      "(mpz(1), mpz(3600))\n",
      "(mpz(4), mpz(236))\n",
      "(mpz(8), mpz(4))\n"
     ]
    }
   ],
   "source": [
    "print(mp.t_divmod(mp.mpz(27989), 29**3))\n",
    "print(mp.t_divmod(mp.mpz(3600), 29**2))\n",
    "print(mp.t_divmod(mp.mpz(236), 29**1))"
   ]
  },
  {
   "cell_type": "code",
   "execution_count": 47,
   "metadata": {},
   "outputs": [
    {
     "name": "stdout",
     "output_type": "stream",
     "text": [
      "112\n"
     ]
    }
   ],
   "source": [
    "a = mp.mpz(106611892003818054998249087386483466645805390339475749725598387269677608194530835642660852703736114770005864561533566872805736602447315775896509439928483225513363)\n",
    "b = mp.mpz(3091744868110723594949223534208020532728356319844796742042353230820650637641394233637164728408347328330170072284473439311366361470972157500998773757926013539887527)\n",
    "\n",
    "\n",
    "\n",
    "print(r)\n"
   ]
  },
  {
   "cell_type": "code",
   "execution_count": 248,
   "metadata": {},
   "outputs": [
    {
     "name": "stdout",
     "output_type": "stream",
     "text": [
      "abcxs\n"
     ]
    }
   ],
   "source": [
    "s = \"abcxs \"\n",
    "print(s.strip())"
   ]
  },
  {
   "cell_type": "code",
   "execution_count": null,
   "metadata": {},
   "outputs": [],
   "source": []
  }
 ],
 "metadata": {
  "kernelspec": {
   "display_name": "Python 3",
   "language": "python",
   "name": "python3"
  },
  "language_info": {
   "codemirror_mode": {
    "name": "ipython",
    "version": 3
   },
   "file_extension": ".py",
   "mimetype": "text/x-python",
   "name": "python",
   "nbconvert_exporter": "python",
   "pygments_lexer": "ipython3",
   "version": "3.7.4"
  }
 },
 "nbformat": 4,
 "nbformat_minor": 2
}
